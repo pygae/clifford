{
 "cells": [
  {
   "cell_type": "markdown",
   "id": "desperate-hypothesis",
   "metadata": {},
   "source": [
    "#  Matrix Representations of Geometric Functions\n",
    "More info can be found in Chapter 5 of \"New foundations for classical mechanics\", by David Hestenes.\n",
    "\n",
    "This notebook shows how some matrix groups can be represented in geometric algebra. Not as spinors in CGA, or PGA, just as functions in  GA.  This is done by: \n",
    "1. Creating a  geometric function\n",
    "2. Apply it to an orthonormal frame\n",
    "3. Convert the resultant frame into a matrix \n",
    "\n",
    "The matrix is defined as the inner product of each basis element of original and transformed frame. \n",
    "\n",
    "$$M_{ij} = a_i\\cdot b_j = a_i\\cdot f(a)_j $$ \n",
    "\n",
    "(or vice-versa with the i,j, you get the point). Since we are going to do this repeatedly,  define a `func2Mat()"
   ]
  },
  {
   "cell_type": "code",
   "execution_count": null,
   "id": "living-backing",
   "metadata": {},
   "outputs": [],
   "source": [
    "import numpy as np \n",
    "\n",
    "def func2Mat(f,I):\n",
    "    '''\n",
    "    Convert a function acting on a vector into a matrix, given \n",
    "    the space defined by psuedoscalar I\n",
    "    '''\n",
    "    A = I.basis()\n",
    "    B = [f(a) for a in A]\n",
    "    M = [float(b | a) for a in A for b in B]\n",
    "    return np.array(M).reshape(len(B), len(B)) "
   ]
  },
  {
   "cell_type": "markdown",
   "id": "dirty-registration",
   "metadata": {},
   "source": [
    "Start with initializing a plane old euclidean N-dimensional algebra and assign our pseudoscalar to $I$, pretty standard. "
   ]
  },
  {
   "cell_type": "code",
   "execution_count": null,
   "id": "chemical-boring",
   "metadata": {},
   "outputs": [],
   "source": [
    "from clifford import Cl\n",
    "from math import * \n",
    "\n",
    "l,b = Cl(3)        # returns (layout,blades). you can change dimesion here\n",
    "I = l.pseudoScalar "
   ]
  },
  {
   "cell_type": "markdown",
   "id": "dated-lover",
   "metadata": {},
   "source": [
    "## Anti-symmetric Matrix,\n",
    "This is so easy,\n",
    "\n",
    " $$x \\rightarrow x\\cdot B$$"
   ]
  },
  {
   "cell_type": "code",
   "execution_count": null,
   "id": "objective-rachel",
   "metadata": {},
   "outputs": [],
   "source": [
    "B = l.randomMV()(2)\n",
    "f = lambda x:x|B\n",
    "func2Mat(f,I=I)"
   ]
  },
  {
   "cell_type": "markdown",
   "id": "tutorial-maryland",
   "metadata": {},
   "source": [
    "Whats the B?  you can read its values straight off the matrix. "
   ]
  },
  {
   "cell_type": "code",
   "execution_count": null,
   "id": "overhead-debut",
   "metadata": {},
   "outputs": [],
   "source": [
    "B"
   ]
  },
  {
   "cell_type": "markdown",
   "id": "viral-madrid",
   "metadata": {},
   "source": [
    "## Diagonal Matrix ( Directional Scaling)\n",
    "\n",
    "A bit awkward this one,  but its made by projection onto each basis vector, then scaling the component by some amount. \n",
    "\n",
    "$$ x \\rightarrow \\sum{\\lambda_i (x\\cdot e_i) e_i} $$"
   ]
  },
  {
   "cell_type": "code",
   "execution_count": null,
   "id": "intended-norwegian",
   "metadata": {},
   "outputs": [],
   "source": [
    "\n",
    "ls = range(1,len(I.basis())+1) # some dilation values (eigenvalues) \n",
    "A = I.basis()\n",
    "\n",
    "\n",
    "d = lambda x: sum([(x|a)/a*l for a,l in zip(A,ls)])\n",
    "func2Mat(d,I=I)"
   ]
  },
  {
   "cell_type": "markdown",
   "id": "egyptian-society",
   "metadata": {},
   "source": [
    "## Rotation\n",
    "\n",
    "$$ x\\rightarrow Rx\\tilde{R}$$\n",
    "where \n",
    "$$R=e^{B/2}$$"
   ]
  },
  {
   "cell_type": "code",
   "execution_count": null,
   "id": "expired-roberts",
   "metadata": {},
   "outputs": [],
   "source": [
    "B = l.randomMV()(2)\n",
    "R = e**(B/2)\n",
    "r = lambda x: R*x*~R\n",
    "func2Mat(r,I=I)"
   ]
  },
  {
   "cell_type": "markdown",
   "id": "checked-circulation",
   "metadata": {},
   "source": [
    "The inverse of this, is easy , $ x\\rightarrow \\tilde{R}xR$"
   ]
  },
  {
   "cell_type": "code",
   "execution_count": null,
   "id": "annoying-offset",
   "metadata": {},
   "outputs": [],
   "source": [
    "rinv = lambda x: ~R*x*R # the inverse rotation \n",
    "func2Mat(rinv,I=I)"
   ]
  },
  {
   "cell_type": "markdown",
   "id": "friendly-shame",
   "metadata": {},
   "source": [
    "## Reflection \n",
    "\n",
    "$$ x \\rightarrow -axa^{-1} $$"
   ]
  },
  {
   "cell_type": "code",
   "execution_count": null,
   "id": "breeding-release",
   "metadata": {},
   "outputs": [],
   "source": [
    "a = l.randomMV()(1)\n",
    "n = lambda x: -a*x/a\n",
    "func2Mat(n,I=I)"
   ]
  },
  {
   "cell_type": "markdown",
   "id": "peaceful-deadline",
   "metadata": {},
   "source": [
    "Notice the determinant for reflection is -1, and for rotation is +1. "
   ]
  },
  {
   "cell_type": "code",
   "execution_count": null,
   "id": "banned-harmony",
   "metadata": {},
   "outputs": [],
   "source": [
    "from numpy.linalg import det \n",
    "det(func2Mat(n,I=I)), det(func2Mat(r,I=I))"
   ]
  },
  {
   "cell_type": "markdown",
   "id": "burning-receptor",
   "metadata": {},
   "source": [
    "## Symmetric \n",
    "This can be built up from the functions we just defined ie  Rotation\\*Dilation/Rotation\n",
    "\n",
    "$$ x \\rightarrow r(d(r^{-1}(x)) $$\n",
    "which if you write it out, looks kind of dumb\n",
    "$$ x \\rightarrow R[\\sum{\\lambda_i (\\tilde{R}x R\\cdot e_i) e_i]R} $$\n",
    "\n",
    "So, the antisymmetric matrix is interpreted as a set dilations about a some orthogonal frame rotated from the basis (what basis,eh? exactly what basis!). \n",
    "\n",
    "\n",
    "More generally we could include reflection in the $R$ too."
   ]
  },
  {
   "cell_type": "code",
   "execution_count": null,
   "id": "competent-grenada",
   "metadata": {},
   "outputs": [],
   "source": [
    "\n",
    "g = lambda x: r(d(rinv(x)))\n",
    "func2Mat(g,I=I)"
   ]
  },
  {
   "cell_type": "markdown",
   "id": "theoretical-africa",
   "metadata": {},
   "source": [
    "## Eigen stuffs\n",
    "By definition the eigen-stuff is the invariants of the transformation, sometimes this is a vector, and other times it is a plane. "
   ]
  },
  {
   "cell_type": "markdown",
   "id": "victorian-philippines",
   "metadata": {},
   "source": [
    "### Rotation"
   ]
  },
  {
   "cell_type": "markdown",
   "id": "baking-laser",
   "metadata": {},
   "source": [
    "The eigen blades of a rotation are really the axis and plane of rotation. "
   ]
  },
  {
   "cell_type": "code",
   "execution_count": null,
   "id": "flexible-fellowship",
   "metadata": {},
   "outputs": [],
   "source": [
    "from numpy.linalg import eig\n",
    "\n",
    "vals, vecs = eig(func2Mat(r,I=I))\n",
    "np.round(vecs,3)"
   ]
  },
  {
   "cell_type": "markdown",
   "id": "bizarre-empire",
   "metadata": {},
   "source": [
    "If you checkout the real column, and compare this to the bivector which generated this rotation (aka the generator), after its been normalized "
   ]
  },
  {
   "cell_type": "code",
   "execution_count": null,
   "id": "employed-multiple",
   "metadata": {},
   "outputs": [],
   "source": [
    "B/(abs(B))"
   ]
  },
  {
   "cell_type": "code",
   "execution_count": null,
   "id": "honest-samuel",
   "metadata": {},
   "outputs": [],
   "source": [
    "B"
   ]
  },
  {
   "cell_type": "code",
   "execution_count": null,
   "id": "returning-lyric",
   "metadata": {},
   "outputs": [],
   "source": [
    "vals"
   ]
  },
  {
   "cell_type": "code",
   "execution_count": null,
   "id": "strong-property",
   "metadata": {},
   "outputs": [],
   "source": [
    "\n",
    "cos(abs(2*B)), sin(abs(2*B))"
   ]
  },
  {
   "cell_type": "markdown",
   "id": "complete-workshop",
   "metadata": {},
   "source": [
    "### Symmetric\n",
    "For the symmetric matrix, the invariant thing the orthonormal frame along which the dilations take place"
   ]
  },
  {
   "cell_type": "code",
   "execution_count": null,
   "id": "fossil-habitat",
   "metadata": {},
   "outputs": [],
   "source": [
    "vals, vecs = eig(func2Mat(g,I=I))\n",
    "np.round(vecs,5).T"
   ]
  },
  {
   "cell_type": "markdown",
   "id": "suitable-reflection",
   "metadata": {},
   "source": [
    "This is easily found by using the rotation part of the symmetric operator, "
   ]
  },
  {
   "cell_type": "code",
   "execution_count": null,
   "id": "close-spell",
   "metadata": {},
   "outputs": [],
   "source": [
    "[R*a*~R  for a in I.basis()]"
   ]
  },
  {
   "cell_type": "code",
   "execution_count": null,
   "id": "pretty-liberal",
   "metadata": {},
   "outputs": [],
   "source": []
  }
 ],
 "metadata": {
  "kernelspec": {
   "display_name": "Python 3",
   "language": "python",
   "name": "python3"
  },
  "language_info": {
   "codemirror_mode": {
    "name": "ipython",
    "version": 3
   },
   "file_extension": ".py",
   "mimetype": "text/x-python",
   "name": "python",
   "nbconvert_exporter": "python",
   "pygments_lexer": "ipython3",
   "version": "3.7.3"
  },
  "toc": {
   "nav_menu": {},
   "number_sections": true,
   "sideBar": true,
   "skip_h1_title": false,
   "toc_cell": false,
   "toc_position": {},
   "toc_section_display": "block",
   "toc_window_display": false
  }
 },
 "nbformat": 4,
 "nbformat_minor": 5
}
