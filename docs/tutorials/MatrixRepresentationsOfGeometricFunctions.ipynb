{
 "cells": [
  {
   "cell_type": "markdown",
   "id": "silver-indian",
   "metadata": {},
   "source": [
    "#  Matrix Representations of Geometric Functions\n",
    "More info can be found in Chapter 5 of \"New foundations for classical mechanics\", by David Hestenes.\n",
    "\n",
    "This notebook shows how some matrix groups can be represented in geometric algebra. Not as spinors in CGA, or PGA, just as functions in plain old Geometric Algebra.  \n",
    "This is done by: \n",
    "\n",
    "  1. Creating a  geometric function\n",
    "  2. Apply it to an orthonormal frame\n",
    "  3. Convert the resultant frame into a matrix \n",
    "\n",
    "The matrix is defined as the inner product of each basis element of original and transformed frame. \n",
    "\n",
    "$$M_{ij} = a_i\\cdot b_j = a_i\\cdot f(a)_j $$ \n",
    "\n",
    "(or vice-versa with the i,j, you get the point). Since we are going to do this repeatedly,  define a `func2Mat()"
   ]
  },
  {
   "cell_type": "code",
   "execution_count": null,
   "id": "ongoing-louisiana",
   "metadata": {},
   "outputs": [],
   "source": [
    "import numpy as np \n",
    "\n",
    "def func2Mat(f,I):\n",
    "    '''\n",
    "    Convert a function acting on a vector into a matrix, given \n",
    "    the space defined by psuedoscalar I\n",
    "    '''\n",
    "    A = I.basis()\n",
    "    B = [f(a) for a in A]\n",
    "    M = [float(b | a) for a in A for b in B]\n",
    "    return np.array(M).reshape(len(B), len(B)) "
   ]
  },
  {
   "cell_type": "markdown",
   "id": "current-disclosure",
   "metadata": {},
   "source": [
    "Start with initializing a euclidean N-dimensional algebra and assign our pseudoscalar to $I$, pretty standard. "
   ]
  },
  {
   "cell_type": "code",
   "execution_count": null,
   "id": "demanding-sunday",
   "metadata": {},
   "outputs": [],
   "source": [
    "from clifford import Cl\n",
    "from math import * \n",
    "\n",
    "l,b = Cl(3)        # returns (layout,blades). you can change dimesion here\n",
    "I = l.pseudoScalar "
   ]
  },
  {
   "cell_type": "markdown",
   "id": "australian-audience",
   "metadata": {},
   "source": [
    "## Anti-symmetric Matrix,\n",
    "This is so easy,\n",
    "\n",
    " $$x \\rightarrow x\\cdot B$$"
   ]
  },
  {
   "cell_type": "code",
   "execution_count": null,
   "id": "entertaining-middle",
   "metadata": {},
   "outputs": [],
   "source": [
    "B = l.randomIntMV()(2)\n",
    "f = lambda x:x|B\n",
    "func2Mat(f,I=I)"
   ]
  },
  {
   "cell_type": "markdown",
   "id": "improved-booking",
   "metadata": {},
   "source": [
    "Whats the B?  you can read its values straight off the matrix. "
   ]
  },
  {
   "cell_type": "code",
   "execution_count": null,
   "id": "elect-salem",
   "metadata": {},
   "outputs": [],
   "source": [
    "B"
   ]
  },
  {
   "cell_type": "markdown",
   "id": "complicated-funds",
   "metadata": {},
   "source": [
    "## Diagonal Matrix ( Directional Scaling)\n",
    "\n",
    "A bit awkward this one,  but its made by projection onto each basis vector, then scaling the component by some amount. \n",
    "\n",
    "$$ x \\rightarrow \\sum{\\lambda_i (x\\cdot e_i) e_i} $$"
   ]
  },
  {
   "cell_type": "code",
   "execution_count": null,
   "id": "warming-stable",
   "metadata": {},
   "outputs": [],
   "source": [
    "\n",
    "ls = range(1,len(I.basis())+1) # some dilation values (eigenvalues) \n",
    "A = I.basis()\n",
    "\n",
    "\n",
    "d = lambda x: sum([(x|a)/a*l for a,l in zip(A,ls)])\n",
    "func2Mat(d,I=I)"
   ]
  },
  {
   "cell_type": "markdown",
   "id": "premium-indonesia",
   "metadata": {},
   "source": [
    "## Rotation\n",
    "\n",
    "$$ x\\rightarrow Rx\\tilde{R}$$\n",
    "\n",
    "where \n",
    "\n",
    "$$R=e^{B/2}$$"
   ]
  },
  {
   "cell_type": "code",
   "execution_count": null,
   "id": "essential-essay",
   "metadata": {},
   "outputs": [],
   "source": [
    "B = l.randomMV()(2)\n",
    "R = e**(B/2)\n",
    "r = lambda x: R*x*~R\n",
    "func2Mat(r,I=I)"
   ]
  },
  {
   "cell_type": "markdown",
   "id": "linear-belle",
   "metadata": {},
   "source": [
    "The inverse of this is , \n",
    "$$ x\\rightarrow \\tilde{R}xR $$"
   ]
  },
  {
   "cell_type": "code",
   "execution_count": null,
   "id": "vulnerable-textbook",
   "metadata": {},
   "outputs": [],
   "source": [
    "rinv = lambda x: ~R*x*R # the inverse rotation \n",
    "func2Mat(rinv,I=I)"
   ]
  },
  {
   "cell_type": "markdown",
   "id": "adaptive-cocktail",
   "metadata": {},
   "source": [
    "## Reflection \n",
    "\n",
    "$$ x \\rightarrow -axa^{-1} $$"
   ]
  },
  {
   "cell_type": "code",
   "execution_count": null,
   "id": "smooth-green",
   "metadata": {},
   "outputs": [],
   "source": [
    "a = l.randomMV()(1)\n",
    "n = lambda x: -a*x/a\n",
    "func2Mat(n,I=I)"
   ]
  },
  {
   "cell_type": "markdown",
   "id": "alternative-assignment",
   "metadata": {},
   "source": [
    "Notice the determinant for reflection is -1, and for rotation is +1. "
   ]
  },
  {
   "cell_type": "code",
   "execution_count": null,
   "id": "developmental-rebound",
   "metadata": {},
   "outputs": [],
   "source": [
    "from numpy.linalg import det \n",
    "det(func2Mat(n,I=I)), det(func2Mat(r,I=I))"
   ]
  },
  {
   "cell_type": "markdown",
   "id": "dutch-berkeley",
   "metadata": {},
   "source": [
    "## Symmetric \n",
    "This can be built up from the functions we just defined ie  Rotation\\*Dilation/Rotation\n",
    "\n",
    "$$ x \\rightarrow r(d(r^{-1}(x)) $$\n",
    "\n",
    "which if you write it out, looks kind of dumb\n",
    "\n",
    "$$ x \\rightarrow R[\\sum{\\lambda_i (\\tilde{R}x R\\cdot e_i) e_i]R} $$\n",
    "\n",
    "So, the antisymmetric matrix is interpreted as a set dilations about a some orthogonal frame rotated from the basis (what basis,eh? exactly what basis!). \n",
    "\n",
    "\n",
    "More generally we could include reflection in the $R$ too."
   ]
  },
  {
   "cell_type": "code",
   "execution_count": null,
   "id": "economic-walnut",
   "metadata": {},
   "outputs": [],
   "source": [
    "\n",
    "g = lambda x: r(d(rinv(x)))\n",
    "func2Mat(g,I=I)"
   ]
  },
  {
   "cell_type": "markdown",
   "id": "helpful-mirror",
   "metadata": {},
   "source": [
    "## Eigen stuffs\n",
    "By definition the eigen-stuff is the invariants of the transformation, sometimes this is a vector, and other times it is a plane. "
   ]
  },
  {
   "cell_type": "markdown",
   "id": "romance-orlando",
   "metadata": {},
   "source": [
    "### Rotation"
   ]
  },
  {
   "cell_type": "markdown",
   "id": "mature-labor",
   "metadata": {},
   "source": [
    "The eigen blades of a rotation are really the axis and plane of rotation. "
   ]
  },
  {
   "cell_type": "code",
   "execution_count": null,
   "id": "exclusive-evans",
   "metadata": {},
   "outputs": [],
   "source": [
    "from numpy.linalg import eig\n",
    "\n",
    "vals, vecs = eig(func2Mat(r,I=I))\n",
    "np.round(vecs,3)"
   ]
  },
  {
   "cell_type": "markdown",
   "id": "ceramic-pursuit",
   "metadata": {},
   "source": [
    "If you checkout the real column, and compare this to the bivector which generated this rotation (aka the generator), after its been normalized "
   ]
  },
  {
   "cell_type": "code",
   "execution_count": null,
   "id": "turkish-catch",
   "metadata": {},
   "outputs": [],
   "source": [
    "B/(abs(B))"
   ]
  },
  {
   "cell_type": "code",
   "execution_count": null,
   "id": "latest-bridges",
   "metadata": {},
   "outputs": [],
   "source": [
    "B"
   ]
  },
  {
   "cell_type": "code",
   "execution_count": null,
   "id": "prerequisite-latest",
   "metadata": {},
   "outputs": [],
   "source": [
    "vals"
   ]
  },
  {
   "cell_type": "code",
   "execution_count": null,
   "id": "excited-entity",
   "metadata": {},
   "outputs": [],
   "source": [
    "\n",
    "cos(abs(B)), sin(abs(B))"
   ]
  },
  {
   "cell_type": "markdown",
   "id": "meaning-witness",
   "metadata": {},
   "source": [
    "### Symmetric\n",
    "For the symmetric matrix, the invariant thing the orthonormal frame along which the dilations take place"
   ]
  },
  {
   "cell_type": "code",
   "execution_count": null,
   "id": "contemporary-works",
   "metadata": {},
   "outputs": [],
   "source": [
    "vals, vecs = eig(func2Mat(g,I=I))\n",
    "np.round(vecs,5).T"
   ]
  },
  {
   "cell_type": "markdown",
   "id": "perceived-weather",
   "metadata": {},
   "source": [
    "This is easily found by using the rotation part of the symmetric operator, "
   ]
  },
  {
   "cell_type": "code",
   "execution_count": null,
   "id": "fourth-translator",
   "metadata": {},
   "outputs": [],
   "source": [
    "[R*a*~R  for a in I.basis()]"
   ]
  },
  {
   "cell_type": "code",
   "execution_count": null,
   "id": "authentic-bidder",
   "metadata": {},
   "outputs": [],
   "source": []
  }
 ],
 "metadata": {
  "kernelspec": {
   "display_name": "Python 3",
   "language": "python",
   "name": "python3"
  },
  "language_info": {
   "codemirror_mode": {
    "name": "ipython",
    "version": 3
   },
   "file_extension": ".py",
   "mimetype": "text/x-python",
   "name": "python",
   "nbconvert_exporter": "python",
   "pygments_lexer": "ipython3",
   "version": "3.7.9"
  },
  "toc": {
   "nav_menu": {},
   "number_sections": true,
   "sideBar": true,
   "skip_h1_title": false,
   "toc_cell": false,
   "toc_position": {},
   "toc_section_display": "block",
   "toc_window_display": false
  }
 },
 "nbformat": 4,
 "nbformat_minor": 5
}
